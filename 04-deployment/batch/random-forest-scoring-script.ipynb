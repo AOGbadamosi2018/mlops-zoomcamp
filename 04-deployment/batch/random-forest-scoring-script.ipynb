{
 "cells": [
  {
   "cell_type": "code",
   "execution_count": 1,
   "id": "f76e57fa-2a17-4170-91bd-0c5b9c8bd01f",
   "metadata": {},
   "outputs": [],
   "source": [
    "### Creating a scoring script using a model from the s3 bucket"
   ]
  },
  {
   "cell_type": "code",
   "execution_count": 21,
   "id": "2e25cf66",
   "metadata": {},
   "outputs": [],
   "source": [
    "import os\n",
    "\n",
    "import uuid \n",
    "import pandas as pd\n",
    "\n",
    "import mlflow\n",
    "\n",
    "from sklearn.feature_extraction import DictVectorizer\n",
    "from sklearn.ensemble import RandomForestRegressor\n",
    "from sklearn.metrics import mean_squared_error"
   ]
  },
  {
   "cell_type": "code",
   "execution_count": 22,
   "id": "041e9423",
   "metadata": {},
   "outputs": [],
   "source": [
    "from sklearn.pipeline import make_pipeline"
   ]
  },
  {
   "cell_type": "code",
   "execution_count": 23,
   "id": "9308198a-fb57-4c75-a240-688afe9ed701",
   "metadata": {},
   "outputs": [],
   "source": [
    "year = 2021 \n",
    "month = 3 \n",
    "taxi_type = 'green'\n",
    "\n",
    "input_file = f'https://d37ci6vzurychx.cloudfront.net/trip-data/green_tripdata_{year:04d}-{month:02d}.parquet'\n",
    "output_file = f'output/{taxi_type}_tripdata_{year:04d}-{month:02d}.parquet'\n",
    "\n",
    "RUN_ID = os.getenv('RUN_ID' , '8935c4ccc9f142aaa3b7f1f074feda2e')\n",
    "\n",
    "\n"
   ]
  },
  {
   "cell_type": "code",
   "execution_count": 37,
   "id": "b9666e19",
   "metadata": {},
   "outputs": [],
   "source": [
    "def generate_uuids(n):\n",
    "    ride_ids = [] \n",
    "    for ride_id in range(n):\n",
    "        ride_ids.append(str(uuid.uuid4()))\n",
    "    return ride_ids\n",
    "\n",
    "def read_dataframe(filename: str):\n",
    "    df = pd.read_parquet(input_file)\n",
    "\n",
    "    df['duration'] = df.lpep_dropoff_datetime - df.lpep_pickup_datetime\n",
    "    df.duration = df.duration.dt.total_seconds() / 60\n",
    "    df = df[(df.duration >= 1) & (df.duration <= 60)]\n",
    "\n",
    "    df['ride_id'] = generate_uuids(len(df))\n",
    "    return df\n",
    "\n",
    "\n",
    "def prepare_dictionaries(df: pd.DataFrame):\n",
    "    categorical = ['PULocationID', 'DOLocationID']\n",
    "    df[categorical] = df[categorical].astype(str)\n",
    "    df['PU_DO'] = df['PULocationID'] + '_' + df['DOLocationID']\n",
    "    categorical = ['PU_DO']\n",
    "    numerical = ['trip_distance']\n",
    "    dicts = df[categorical + numerical].to_dict(orient='records')\n",
    "    return dicts"
   ]
  },
  {
   "cell_type": "code",
   "execution_count": 38,
   "id": "6b5f0d80",
   "metadata": {},
   "outputs": [],
   "source": [
    "# need to download files and add them to the folder\n",
    "\n",
    "def load_model(run_id):\n",
    "    logged_model = f's3://mlflow-abiodun/4/{RUN_ID}/artifacts/model'\n",
    "    model = mlflow.pyfunc.load_model(logged_model)\n",
    "    \n",
    "    return model\n",
    "\n",
    "def apply_model(input_file ,run_id, output_file):\n",
    "    \n",
    "    df = read_dataframe(input_file)\n",
    "    dicts = prepare_dictionaries(df)\n",
    "    model = load_model(run_id)\n",
    "    y_pred = model.predict(dicts)\n",
    "    df_result = pd.DataFrame()\n",
    "    df_result['ride_id'] = ride_ids\n",
    "    df_result['lpep_pickup_datetime']=df['lpep_pickup_datetime']\n",
    "    df_result['PULocationID'] = df['PULocationID']\n",
    "    df_result['DOLocationID'] = df['DOLocationID']\n",
    "    df_result['actual_duration'] = df['duration']\n",
    "    df_result['predicted_duration'] = y_pred\n",
    "    df_result['diff']  =df_result['actual_duration'] - df_result['predicted_duration']\n",
    "    df_result['model_version'] = RUN_ID\n",
    "    \n",
    "    df_result.to_parquet(output_file, index = False)\n",
    " "
   ]
  },
  {
   "cell_type": "code",
   "execution_count": 40,
   "id": "ef712cbc-82ec-4027-ad0b-115fe886e065",
   "metadata": {},
   "outputs": [
    {
     "data": {
      "application/vnd.jupyter.widget-view+json": {
       "model_id": "2ae59e7d50dc43648d311ed754beb126",
       "version_major": 2,
       "version_minor": 0
      },
      "text/plain": [
       "Downloading artifacts:   0%|          | 0/5 [00:00<?, ?it/s]"
      ]
     },
     "metadata": {},
     "output_type": "display_data"
    }
   ],
   "source": [
    "apply_model(input_file=input_file,run_id=RUN_ID, output_file=output_file)"
   ]
  },
  {
   "cell_type": "code",
   "execution_count": 13,
   "id": "c73081e1",
   "metadata": {},
   "outputs": [],
   "source": [
    "\n"
   ]
  },
  {
   "cell_type": "code",
   "execution_count": 16,
   "id": "05aafe68-7669-488d-8b35-bcb211ac347a",
   "metadata": {},
   "outputs": [],
   "source": [
    "# !mkdir output"
   ]
  },
  {
   "cell_type": "code",
   "execution_count": 17,
   "id": "d4622861-acf6-4c8b-ad74-d3e9e657bda7",
   "metadata": {},
   "outputs": [],
   "source": []
  },
  {
   "cell_type": "code",
   "execution_count": null,
   "id": "529caf33",
   "metadata": {},
   "outputs": [],
   "source": []
  }
 ],
 "metadata": {
  "kernelspec": {
   "display_name": "Python (exp-tracking-env)",
   "language": "python",
   "name": "exp-tracking-env"
  },
  "language_info": {
   "codemirror_mode": {
    "name": "ipython",
    "version": 3
   },
   "file_extension": ".py",
   "mimetype": "text/x-python",
   "name": "python",
   "nbconvert_exporter": "python",
   "pygments_lexer": "ipython3",
   "version": "3.9.19"
  }
 },
 "nbformat": 4,
 "nbformat_minor": 5
}
